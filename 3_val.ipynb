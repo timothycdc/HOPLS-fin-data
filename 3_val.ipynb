{
 "cells": [
  {
   "cell_type": "markdown",
   "id": "ba8b0c5a",
   "metadata": {},
   "source": [
    "# Import Data"
   ]
  },
  {
   "cell_type": "code",
   "execution_count": 1,
   "id": "81cd383e",
   "metadata": {},
   "outputs": [],
   "source": [
    "import pandas as pd\n",
    "import numpy as np\n",
    "from tqdm import tqdm\n",
    "\n",
    "from model.prediction_engine import get_final_data\n",
    "# final_data = get_final_data(save_to_csv=False)\n",
    "final_data = pd.read_csv('data/final_data.csv')"
   ]
  },
  {
   "cell_type": "markdown",
   "id": "2521433d",
   "metadata": {},
   "source": [
    "## Process Data"
   ]
  },
  {
   "cell_type": "code",
   "execution_count": 2,
   "id": "a2e90602",
   "metadata": {},
   "outputs": [],
   "source": [
    "import torch\n",
    "import tensorly as tl\n",
    "%load_ext autoreload\n",
    "%autoreload 2\n",
    "\n",
    "from model.prediction_engine import PredictionTestEngine\n",
    "\n",
    "final_data = final_data.sort_values(['year_month', 'GVKEY'])\n",
    "final_data['trt1m'] = pd.to_numeric(final_data['trt1m'], errors='coerce')\n",
    "\n",
    "# feature columns\n",
    "feature_cols = [c for c in final_data.columns \n",
    "                if c not in ['GVKEY','year_month','trt1m']]\n",
    "for col in feature_cols:\n",
    "    final_data[col] = pd.to_numeric(final_data[col], errors='coerce')\n",
    "\n",
    "# Build Y (T × n_series)\n",
    "Y_df = (final_data\n",
    "    .pivot_table(index='year_month', columns='GVKEY', \n",
    "                 values='trt1m', aggfunc='mean')\n",
    "    .sort_index().sort_index(axis=1)\n",
    ")\n",
    "Y_df = Y_df.apply(lambda x: (x - x.mean())/x.std(), axis=0)\n",
    "Y = Y_df.to_numpy()\n",
    "\n",
    "# Build X tensor (T × n_series × n_features)\n",
    "X_list = []\n",
    "for col in feature_cols:\n",
    "    pivot = (final_data\n",
    "        .pivot_table(index='year_month', columns='GVKEY', \n",
    "                     values=col, aggfunc='mean')\n",
    "        .reindex(index=Y_df.index, columns=Y_df.columns)\n",
    "    )\n",
    "    pivot = pivot.apply(lambda x: (x - x.mean())/x.std(), axis=0)\n",
    "    X_list.append(pivot.to_numpy())\n",
    "X = np.stack(X_list, axis=2)\n",
    "\n",
    "# Shift so that X[t] predicts Y[t+1]\n",
    "X_all = np.nan_to_num(X[:-1, :, :])\n",
    "Y_all = np.nan_to_num(Y[1:, :])\n",
    "\n",
    "# Time index for the test (use first day of month)\n",
    "time_index_all = pd.to_datetime(Y_df.index[1:], format='%Y-%m')\n",
    "\n",
    "# Ensure tensorly backend\n",
    "tl.set_backend(\"pytorch\")\n",
    "# torch.set_default_tensor_type(torch.DoubleTensor)\n",
    "torch.set_default_dtype(torch.float64)\n",
    "\n"
   ]
  },
  {
   "cell_type": "markdown",
   "id": "eaa07c75",
   "metadata": {},
   "source": [
    "## HOPLS RIDGE"
   ]
  },
  {
   "cell_type": "code",
   "execution_count": 3,
   "id": "6aef6bde",
   "metadata": {},
   "outputs": [
    {
     "name": "stdout",
     "output_type": "stream",
     "text": [
      "Overall metrics:\n",
      "mse: 1.0951\n",
      "r2: -0.1065\n",
      "directional_accuracy: 0.4679\n"
     ]
    }
   ],
   "source": [
    "# Instantiate engine\n",
    "window_size = 50\n",
    "train_start = int(0.85 * X_all.shape[0])\n",
    "train_end = int(0.90 * X_all.shape[0])\n",
    "engine = PredictionTestEngine(\n",
    "    X_all,\n",
    "    Y_all,\n",
    "    window_size=window_size,\n",
    "    time_index=time_index_all,\n",
    "    train_start=train_start,\n",
    "    train_end= train_end\n",
    ")\n",
    "\n",
    "kwargs = {\n",
    "    \"method\": \"hopls\",\n",
    "    \"R\": 60,\n",
    "    \"Ln\": (3, 3),\n",
    "    \"epsilon\": 1e-6,\n",
    "    \"verbose\": False,\n",
    "    \"n_jobs\": 7,\n",
    "}\n",
    "\n",
    "y_pred, y_true, times, metrics = engine.run_window(**kwargs)\n",
    "\n",
    "print(\"Overall metrics:\")\n",
    "for k, v in metrics.items():\n",
    "    print(f\"{k}: {v:.4f}\")\n",
    "    \n"
   ]
  },
  {
   "cell_type": "markdown",
   "id": "9cb5c4b8",
   "metadata": {},
   "source": [
    "## HOPLS MILR"
   ]
  },
  {
   "cell_type": "code",
   "execution_count": 16,
   "id": "e2d1e1e6",
   "metadata": {},
   "outputs": [
    {
     "name": "stdout",
     "output_type": "stream",
     "text": [
      "run_window: X_all shape (275, 127, 38), y_all shape (275, 127)\n",
      "run_window: window_size=50, n_series=127, n_features=38\n",
      "run_window: number of test windows=14\n"
     ]
    },
    {
     "name": "stderr",
     "output_type": "stream",
     "text": [
      "Parallel preds: 100%|██████████| 14/14 [04:31<00:00, 19.39s/it]\n"
     ]
    },
    {
     "name": "stdout",
     "output_type": "stream",
     "text": [
      "MILR components: 60\n",
      "  P comp 0: [(127, 7), (38, 7)]\n",
      "  P comp 1: [(127, 7), (38, 7)]\n",
      "  P comp 2: [(127, 7), (38, 7)]\n",
      "  P comp 3: [(127, 7), (38, 7)]\n",
      "  P comp 4: [(127, 7), (38, 7)]\n",
      "  P comp 5: [(127, 7), (38, 7)]\n",
      "  P comp 6: [(127, 7), (38, 7)]\n",
      "  P comp 7: [(127, 7), (38, 7)]\n",
      "  P comp 8: [(127, 7), (38, 7)]\n",
      "  P comp 9: [(127, 7), (38, 7)]\n",
      "  P comp 10: [(127, 7), (38, 7)]\n",
      "  P comp 11: [(127, 7), (38, 7)]\n",
      "  P comp 12: [(127, 7), (38, 7)]\n",
      "  P comp 13: [(127, 7), (38, 7)]\n",
      "  P comp 14: [(127, 7), (38, 7)]\n",
      "  P comp 15: [(127, 7), (38, 7)]\n",
      "  P comp 16: [(127, 7), (38, 7)]\n",
      "  P comp 17: [(127, 7), (38, 7)]\n",
      "  P comp 18: [(127, 7), (38, 7)]\n",
      "  P comp 19: [(127, 7), (38, 7)]\n",
      "  P comp 20: [(127, 7), (38, 7)]\n",
      "  P comp 21: [(127, 7), (38, 7)]\n",
      "  P comp 22: [(127, 7), (38, 7)]\n",
      "  P comp 23: [(127, 7), (38, 7)]\n",
      "  P comp 24: [(127, 7), (38, 7)]\n",
      "  P comp 25: [(127, 7), (38, 7)]\n",
      "  P comp 26: [(127, 7), (38, 7)]\n",
      "  P comp 27: [(127, 7), (38, 7)]\n",
      "  P comp 28: [(127, 7), (38, 7)]\n",
      "  P comp 29: [(127, 7), (38, 7)]\n",
      "  P comp 30: [(127, 7), (38, 7)]\n",
      "  P comp 31: [(127, 7), (38, 7)]\n",
      "  P comp 32: [(127, 7), (38, 7)]\n",
      "  P comp 33: [(127, 7), (38, 7)]\n",
      "  P comp 34: [(127, 7), (38, 7)]\n",
      "  P comp 35: [(127, 7), (38, 7)]\n",
      "  P comp 36: [(127, 7), (38, 7)]\n",
      "  P comp 37: [(127, 7), (38, 7)]\n",
      "  P comp 38: [(127, 7), (38, 7)]\n",
      "  P comp 39: [(127, 7), (38, 7)]\n",
      "  P comp 40: [(127, 7), (38, 7)]\n",
      "  P comp 41: [(127, 7), (38, 7)]\n",
      "  P comp 42: [(127, 7), (38, 7)]\n",
      "  P comp 43: [(127, 7), (38, 7)]\n",
      "  P comp 44: [(127, 7), (38, 7)]\n",
      "  P comp 45: [(127, 7), (38, 7)]\n",
      "  P comp 46: [(127, 7), (38, 7)]\n",
      "  P comp 47: [(127, 7), (38, 7)]\n",
      "  P comp 48: [(127, 7), (38, 7)]\n",
      "  P comp 49: [(127, 7), (38, 7)]\n",
      "  P comp 50: [(127, 7), (38, 7)]\n",
      "  P comp 51: [(127, 7), (38, 7)]\n",
      "  P comp 52: [(127, 7), (38, 7)]\n",
      "  P comp 53: [(127, 7), (38, 7)]\n",
      "  P comp 54: [(127, 7), (38, 7)]\n",
      "  P comp 55: [(127, 7), (38, 7)]\n",
      "  P comp 56: [(127, 7), (38, 7)]\n",
      "  P comp 57: [(127, 7), (38, 7)]\n",
      "  P comp 58: [(127, 7), (38, 7)]\n",
      "  P comp 59: [(127, 7), (38, 7)]\n",
      "G shapes: [(1, 7, 7), (1, 7, 7), (1, 7, 7), (1, 7, 7), (1, 7, 7), (1, 7, 7), (1, 7, 7), (1, 7, 7), (1, 7, 7), (1, 7, 7), (1, 7, 7), (1, 7, 7), (1, 7, 7), (1, 7, 7), (1, 7, 7), (1, 7, 7), (1, 7, 7), (1, 7, 7), (1, 7, 7), (1, 7, 7), (1, 7, 7), (1, 7, 7), (1, 7, 7), (1, 7, 7), (1, 7, 7), (1, 7, 7), (1, 7, 7), (1, 7, 7), (1, 7, 7), (1, 7, 7), (1, 7, 7), (1, 7, 7), (1, 7, 7), (1, 7, 7), (1, 7, 7), (1, 7, 7), (1, 7, 7), (1, 7, 7), (1, 7, 7), (1, 7, 7), (1, 7, 7), (1, 7, 7), (1, 7, 7), (1, 7, 7), (1, 7, 7), (1, 7, 7), (1, 7, 7), (1, 7, 7), (1, 7, 7), (1, 7, 7), (1, 7, 7), (1, 7, 7), (1, 7, 7), (1, 7, 7), (1, 7, 7), (1, 7, 7), (1, 7, 7), (1, 7, 7), (1, 7, 7), (1, 7, 7)]\n",
      "Q shape: (127, 60)\n",
      "D shape: (60,)\n",
      "T_mat shape: (50, 60), W_mat shape: (4826, 60)\n",
      "Overall metrics:\n",
      "mse: 1.1582\n",
      "r2: -0.1703\n",
      "directional_accuracy: 0.5034\n"
     ]
    }
   ],
   "source": [
    "# Instantiate engine\n",
    "window_size = 50\n",
    "train_start = int(0.85 * X_all.shape[0])\n",
    "train_end = int(0.90 * X_all.shape[0])\n",
    "engine = PredictionTestEngine(\n",
    "    X_all,\n",
    "    Y_all,\n",
    "    window_size=window_size,\n",
    "    time_index=time_index_all,\n",
    "    train_start=train_start,\n",
    "    train_end= train_end\n",
    ")\n",
    "\n",
    "y_pred, y_true, times, metrics = engine.run_window(\n",
    "    method=\"hopls_milr\"\n",
    "    # , R=30, Ln=(3, 3), epsilon=1e-7, verbose=True, n_jobs=7, \n",
    "    # , R=32, Ln=(3, 3), epsilon=1e-6, verbose=True, n_jobs=7, lambda_X = 0.001, lambda_Y = 0.001, alpha=0.1\n",
    "    , R=60, Ln=(7, 7), epsilon=1e-5, verbose=True, n_jobs=7, lambda_X = 1e-2, lambda_Y = 1e-7, alpha=4.0\n",
    ")\n",
    "\n",
    "print(\"Overall metrics:\")\n",
    "for k, v in metrics.items():\n",
    "    print(f\"{k}: {v:.4f}\")\n"
   ]
  }
 ],
 "metadata": {
  "kernelspec": {
   "display_name": ".venv",
   "language": "python",
   "name": "python3"
  },
  "language_info": {
   "codemirror_mode": {
    "name": "ipython",
    "version": 3
   },
   "file_extension": ".py",
   "mimetype": "text/x-python",
   "name": "python",
   "nbconvert_exporter": "python",
   "pygments_lexer": "ipython3",
   "version": "3.12.4"
  }
 },
 "nbformat": 4,
 "nbformat_minor": 5
}
